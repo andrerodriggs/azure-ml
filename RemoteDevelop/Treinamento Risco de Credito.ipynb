{
 "cells": [
  {
   "cell_type": "markdown",
   "metadata": {},
   "source": [
    "# 1. Carregamento dos dados"
   ]
  },
  {
   "cell_type": "code",
   "execution_count": 55,
   "metadata": {},
   "outputs": [],
   "source": [
    "from sklearn.model_selection import train_test_split\n",
    "from sklearn.ensemble import RandomForestClassifier as rfc\n",
    "from sklearn.linear_model import Ridge\n",
    "from sklearn.metrics import mean_squared_error\n",
    "from sklearn.externals import joblib\n",
    "import sklearn\n",
    "import math\n",
    "from azureml.core import Experiment\n",
    "\n",
    "# O azureml-core da versão 1.0.72 ou superior é requerido\n",
    "# é necessário azureml-dataprep[pandas] na versão 1.1.34 ou superior\n",
    "from azureml.core import Workspace, Dataset"
   ]
  },
  {
   "cell_type": "code",
   "execution_count": null,
   "metadata": {},
   "outputs": [],
   "source": [
    "#Trocar os códigos abaixo pelos da sua instância!\n",
    "subscription_id = '4efa8ecf-981b-4481-87c1-05c138e80dcb'\n",
    "resource_group = 'Aulas-FIAP'\n",
    "workspace_name = 'WorkspaceMLAula'\n",
    "\n",
    "workspace = Workspace(subscription_id, resource_group, workspace_name)"
   ]
  },
  {
   "cell_type": "code",
   "execution_count": 7,
   "metadata": {},
   "outputs": [
    {
     "data": {
      "text/html": [
       "<div>\n",
       "<style scoped>\n",
       "    .dataframe tbody tr th:only-of-type {\n",
       "        vertical-align: middle;\n",
       "    }\n",
       "\n",
       "    .dataframe tbody tr th {\n",
       "        vertical-align: top;\n",
       "    }\n",
       "\n",
       "    .dataframe thead th {\n",
       "        text-align: right;\n",
       "    }\n",
       "</style>\n",
       "<table border=\"1\" class=\"dataframe\">\n",
       "  <thead>\n",
       "    <tr style=\"text-align: right;\">\n",
       "      <th></th>\n",
       "      <th>nome</th>\n",
       "      <th>renda</th>\n",
       "      <th>idade</th>\n",
       "      <th>etnia</th>\n",
       "      <th>sexo</th>\n",
       "      <th>casapropria</th>\n",
       "      <th>outrasrendas</th>\n",
       "      <th>estadocivil</th>\n",
       "      <th>escolaridade</th>\n",
       "      <th>default</th>\n",
       "    </tr>\n",
       "  </thead>\n",
       "  <tbody>\n",
       "    <tr>\n",
       "      <th>0</th>\n",
       "      <td>Simon, Rodriguez</td>\n",
       "      <td>4472.190323</td>\n",
       "      <td>42.036031</td>\n",
       "      <td>0</td>\n",
       "      <td>0</td>\n",
       "      <td>1</td>\n",
       "      <td>0</td>\n",
       "      <td>0</td>\n",
       "      <td>3</td>\n",
       "      <td>0</td>\n",
       "    </tr>\n",
       "    <tr>\n",
       "      <th>1</th>\n",
       "      <td>Daniel, Castro</td>\n",
       "      <td>4592.774312</td>\n",
       "      <td>48.230662</td>\n",
       "      <td>1</td>\n",
       "      <td>0</td>\n",
       "      <td>1</td>\n",
       "      <td>0</td>\n",
       "      <td>1</td>\n",
       "      <td>2</td>\n",
       "      <td>0</td>\n",
       "    </tr>\n",
       "    <tr>\n",
       "      <th>2</th>\n",
       "      <td>Myhue, Lin</td>\n",
       "      <td>2486.538807</td>\n",
       "      <td>56.881709</td>\n",
       "      <td>0</td>\n",
       "      <td>1</td>\n",
       "      <td>0</td>\n",
       "      <td>0</td>\n",
       "      <td>0</td>\n",
       "      <td>0</td>\n",
       "      <td>1</td>\n",
       "    </tr>\n",
       "    <tr>\n",
       "      <th>3</th>\n",
       "      <td>Destiny, Richardson-Pacheco</td>\n",
       "      <td>2852.340117</td>\n",
       "      <td>51.684021</td>\n",
       "      <td>1</td>\n",
       "      <td>1</td>\n",
       "      <td>0</td>\n",
       "      <td>0</td>\n",
       "      <td>0</td>\n",
       "      <td>2</td>\n",
       "      <td>1</td>\n",
       "    </tr>\n",
       "    <tr>\n",
       "      <th>4</th>\n",
       "      <td>Brittany, Cohen-Wilson</td>\n",
       "      <td>4703.782812</td>\n",
       "      <td>50.729078</td>\n",
       "      <td>1</td>\n",
       "      <td>1</td>\n",
       "      <td>1</td>\n",
       "      <td>0</td>\n",
       "      <td>1</td>\n",
       "      <td>2</td>\n",
       "      <td>0</td>\n",
       "    </tr>\n",
       "  </tbody>\n",
       "</table>\n",
       "</div>"
      ],
      "text/plain": [
       "                          nome        renda      idade  etnia  sexo  \\\n",
       "0             Simon, Rodriguez  4472.190323  42.036031      0     0   \n",
       "1               Daniel, Castro  4592.774312  48.230662      1     0   \n",
       "2                   Myhue, Lin  2486.538807  56.881709      0     1   \n",
       "3  Destiny, Richardson-Pacheco  2852.340117  51.684021      1     1   \n",
       "4       Brittany, Cohen-Wilson  4703.782812  50.729078      1     1   \n",
       "\n",
       "   casapropria  outrasrendas  estadocivil  escolaridade  default  \n",
       "0            1             0            0             3        0  \n",
       "1            1             0            1             2        0  \n",
       "2            0             0            0             0        1  \n",
       "3            0             0            0             2        1  \n",
       "4            1             0            1             2        0  "
      ]
     },
     "execution_count": 7,
     "metadata": {},
     "output_type": "execute_result"
    }
   ],
   "source": [
    "dataset = Dataset.get_by_name(workspace, name='Risco-de-Credito')\n",
    "df = dataset.to_pandas_dataframe()\n",
    "df.head()"
   ]
  },
  {
   "cell_type": "markdown",
   "metadata": {},
   "source": [
    "# 2. Treinamento"
   ]
  },
  {
   "cell_type": "markdown",
   "metadata": {},
   "source": [
    "## 2.1 - Separa dados em treino e teste"
   ]
  },
  {
   "cell_type": "code",
   "execution_count": 33,
   "metadata": {},
   "outputs": [],
   "source": [
    "x_df = df.loc[:,[\"renda\", \"idade\", \"etnia\", \"sexo\", \"casapropria\", \"outrasrendas\", \"estadocivil\", \"escolaridade\"] ]\n",
    "y_df = df.loc[:,\"default\"]"
   ]
  },
  {
   "cell_type": "code",
   "execution_count": 34,
   "metadata": {},
   "outputs": [],
   "source": [
    "X_train, X_test, y_train, y_test = train_test_split(x_df, y_df, test_size=0.2, random_state=66)"
   ]
  },
  {
   "cell_type": "markdown",
   "metadata": {},
   "source": [
    "## 2.2 Random Forest "
   ]
  },
  {
   "cell_type": "markdown",
   "metadata": {},
   "source": [
    "Prepara ambiente na nuvem para logs"
   ]
  },
  {
   "cell_type": "code",
   "execution_count": 56,
   "metadata": {},
   "outputs": [],
   "source": [
    "experiment = Experiment(workspace=workspace, name=\"risco-credito-experimentos-RF\")\n",
    "run = experiment.start_logging()\n",
    "run.log(\"Valor Parametro\", 1.0)"
   ]
  },
  {
   "cell_type": "markdown",
   "metadata": {},
   "source": [
    "Treina"
   ]
  },
  {
   "cell_type": "code",
   "execution_count": 57,
   "metadata": {},
   "outputs": [
    {
     "name": "stderr",
     "output_type": "stream",
     "text": [
      "/anaconda/envs/azureml_py36/lib/python3.6/site-packages/sklearn/ensemble/forest.py:246: FutureWarning: The default value of n_estimators will change from 10 in version 0.20 to 100 in 0.22.\n",
      "  \"10 in version 0.20 to 100 in 0.22.\", FutureWarning)\n"
     ]
    }
   ],
   "source": [
    "clf = rfc()\n",
    "clf.fit(X=X_train, y=y_train)\n",
    "clf.independentcols = x_df.columns"
   ]
  },
  {
   "cell_type": "code",
   "execution_count": 58,
   "metadata": {},
   "outputs": [
    {
     "name": "stdout",
     "output_type": "stream",
     "text": [
      "Modelo 01 (classificador), criado com acurácia de: [0.96047]\n"
     ]
    }
   ],
   "source": [
    "clf_acuracia = clf.score(X=x_df, y=y_df)\n",
    "print(\"Modelo 01 (classificador), criado com acurácia de: [{0}]\".format(clf_acuracia))\n",
    "run.log(\"acuracia\", clf_acuracia)"
   ]
  },
  {
   "cell_type": "markdown",
   "metadata": {},
   "source": [
    "Demais logs"
   ]
  },
  {
   "cell_type": "code",
   "execution_count": 59,
   "metadata": {},
   "outputs": [],
   "source": [
    "run.log(\"Versao sklearn\", sklearn.__version__)\n",
    "run.log(\"criterion\", clf.criterion)\n",
    "run.log(\"n_estimators\", clf.n_estimators)\n",
    "run.log(\"min_samples_leaf\", clf.min_samples_leaf)\n",
    "run.log(\"max_depth\", clf.max_depth)\n",
    "run.log_list(\"Inputs\", list(x_df.columns) )"
   ]
  },
  {
   "cell_type": "markdown",
   "metadata": {},
   "source": [
    "Salva modelo e encerra Logger"
   ]
  },
  {
   "cell_type": "code",
   "execution_count": 60,
   "metadata": {},
   "outputs": [],
   "source": [
    "model_name = \"model_risco_RF01.pkl\"\n",
    "filename = \"outputs/\" + model_name\n",
    "\n",
    "joblib.dump(value=clf, filename=filename)\n",
    "run.upload_file(name=model_name, path_or_stream=filename)\n",
    "run.complete()"
   ]
  },
  {
   "cell_type": "markdown",
   "metadata": {},
   "source": [
    "## 2.3 Linerar Model Ridge"
   ]
  },
  {
   "cell_type": "markdown",
   "metadata": {},
   "source": [
    "Prepara ambiente na nuvem para logs"
   ]
  },
  {
   "cell_type": "code",
   "execution_count": 47,
   "metadata": {},
   "outputs": [],
   "source": [
    "experiment = Experiment(workspace=workspace, name=\"risco-credito-experimentos-Ridge\")"
   ]
  },
  {
   "cell_type": "code",
   "execution_count": 48,
   "metadata": {},
   "outputs": [
    {
     "name": "stdout",
     "output_type": "stream",
     "text": [
      "alpha_value: 0.1\n",
      "alpha_value: 0.2\n",
      "alpha_value: 0.3\n",
      "alpha_value: 0.4\n",
      "alpha_value: 0.5\n",
      "alpha_value: 0.6\n",
      "alpha_value: 0.7\n",
      "alpha_value: 0.8\n",
      "alpha_value: 0.9\n",
      "alpha_value: 1.0\n"
     ]
    }
   ],
   "source": [
    "alphas = [0.1, 0.2, 0.3, 0.4, 0.5, 0.6, 0.7, 0.8, 0.9, 1.0]\n",
    "\n",
    "for alpha in alphas:\n",
    "    print(\"alpha_value: {0}\".format(alpha ) )\n",
    "    run = experiment.start_logging()\n",
    "    run.log(\"alpha_value\", alpha)\n",
    "\n",
    "    model = Ridge(alpha=alpha)\n",
    "    model.fit(X=X_train, y=y_train)\n",
    "    model.independentcols = x_df.columns\n",
    "    y_pred = model.predict(X=X_test)\n",
    "    acuracia = model.score(X=x_df, y=y_df)\n",
    "    run.log(\"acuracia\", acuracia)\n",
    "    run.log(\"Versao sklearn\", sklearn.__version__)\n",
    "    rmse = math.sqrt(mean_squared_error(y_true=y_test, y_pred=y_pred))\n",
    "    run.log(\"rmse\", rmse)\n",
    "\n",
    "    model_name = \"model_alpha_\" + str(alpha) + \".pkl\"\n",
    "    filename = \"outputs/\" + model_name\n",
    "\n",
    "    joblib.dump(value=model, filename=filename)\n",
    "    run.upload_file(name=model_name, path_or_stream=filename)\n",
    "    run.complete()"
   ]
  },
  {
   "cell_type": "markdown",
   "metadata": {},
   "source": [
    "-----\n",
    "\n",
    "# FIM"
   ]
  },
  {
   "cell_type": "code",
   "execution_count": null,
   "metadata": {},
   "outputs": [],
   "source": []
  }
 ],
 "metadata": {
  "kernelspec": {
   "display_name": "Python 3.6 - AzureML",
   "language": "python",
   "name": "python3-azureml"
  },
  "language_info": {
   "codemirror_mode": {
    "name": "ipython",
    "version": 3
   },
   "file_extension": ".py",
   "mimetype": "text/x-python",
   "name": "python",
   "nbconvert_exporter": "python",
   "pygments_lexer": "ipython3",
   "version": "3.6.9"
  }
 },
 "nbformat": 4,
 "nbformat_minor": 4
}
